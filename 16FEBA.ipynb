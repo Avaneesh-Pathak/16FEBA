{
 "cells": [
  {
   "cell_type": "code",
   "execution_count": null,
   "id": "a87d5b7b-fb44-4a13-ba58-0958173884d6",
   "metadata": {},
   "outputs": [],
   "source": [
    "'''. What is a database? Differentiate between SQL and NoSQL databases."
   ]
  },
  {
   "cell_type": "code",
   "execution_count": null,
   "id": "557d46cf-7361-41c7-9277-cea301c50ae8",
   "metadata": {},
   "outputs": [],
   "source": [
    "A database  is a colection of data that is orignated and stored in a way that allows efficient retrievel management and manipulation of the data.\n",
    "database are used to store and manage large amounts of data that can be accesed and processed by different application and users.\n",
    "\n",
    "SQL data base are also known as relational databse use4 structured query language  to manage and manipulate data. SQL datrabase ae organised into tables with rows and columns  and the relationshiips between these tables are defined by keys. \n",
    "\n",
    "\n",
    "On the other hand Nosql databse also known as non reltional databse so not use SQL as thier primery query language. Instead they use a variety of other data models such as document basedkey value graph based and column family.\n",
    "NoSQL databse are designed to handle large volume of unstructered ata that may change frequently and rapidly."
   ]
  },
  {
   "cell_type": "code",
   "execution_count": null,
   "id": "acf32745-6460-4bfa-ad2c-e78a28c65009",
   "metadata": {},
   "outputs": [],
   "source": [
    "''' What is DDL? Explain why CREATE, DROP, ALTER, and TRUNCATE are used with an example."
   ]
  },
  {
   "cell_type": "code",
   "execution_count": null,
   "id": "2984cd22-e15c-4e83-a0ce-52a3eb57ec64",
   "metadata": {},
   "outputs": [],
   "source": [
    "Data Definition Language(DDL) is a subset of SQL and a part of DBMS(Database Management System).\n",
    "DDL consist of Commands to commands like CREATE, ALTER, TRUNCATE and DROP.\n",
    "These commands are used to create or modify the tables in SQL.\n",
    "\n",
    "CREATE :- This command is used to create a new table in SQL. The user has to give information like table name,column names, and their datatypes.\n",
    "SYNTAX(CREATE TABLE table_name ();)\n",
    "ALTER :-  This command is used to add,delete or change columns in the existing tables. the user needs to know the existing table name and can do add, delte or modify tasks easily.\n",
    "SYNTAX (ALTER TABLE table_name)\n",
    "TRUNCATE :- This command is used to remove al rows from the table , but the structure of the table stil exists.\n",
    "SYNTAX(TRUNCATE TABLE table_name)\n",
    "DROP :-  This command is used tp remove an existing table along with its structure from the database.\n",
    "SYNATX(DROP TABLE table_name)"
   ]
  },
  {
   "cell_type": "code",
   "execution_count": null,
   "id": "977a2f38-0b52-4be4-b491-8a688c3107bc",
   "metadata": {},
   "outputs": [],
   "source": [
    "'''What is DML? Explain INSERT, UPDATE, and DELETE with an example."
   ]
  },
  {
   "cell_type": "code",
   "execution_count": null,
   "id": "94824573-9a32-4349-9792-e900087f0386",
   "metadata": {},
   "outputs": [],
   "source": [
    "DML stands for data Manipu,ltion Language. It is a sub-language of SQl that is used to manipulate the ata within the database object such as tables.\n",
    "the main purpose of DML is to insert, modify and remove data stored in the database table.\n",
    "\n",
    "\n",
    "INSERT command is used add new rows of data to a table.\n",
    "UPDATE command is used to modify the eisting data in a table.\n",
    "DELETE command is used to remove rows of data form a table."
   ]
  },
  {
   "cell_type": "code",
   "execution_count": null,
   "id": "01f2be28-3286-44f4-a5bf-ae6b15a6893d",
   "metadata": {},
   "outputs": [],
   "source": [
    "'''What is DQL? Explain SELECT with an example."
   ]
  },
  {
   "cell_type": "code",
   "execution_count": null,
   "id": "739498a1-4935-4b3b-a035-113ea124d950",
   "metadata": {},
   "outputs": [],
   "source": [
    "DQL stands for data query language and it is subset of sql(structured query language) that is used to retrive data from a database.\n",
    "Select is a keywordin sql that is used to retrive data from a database . "
   ]
  },
  {
   "cell_type": "code",
   "execution_count": null,
   "id": "18583ad2-0b85-4710-ac24-6b746cf3ed60",
   "metadata": {},
   "outputs": [],
   "source": [
    "'''Explain Primary Key and Foreign Key."
   ]
  },
  {
   "cell_type": "code",
   "execution_count": null,
   "id": "b8162cfd-87b3-43ca-b7eb-b747ef5d4753",
   "metadata": {},
   "outputs": [],
   "source": [
    "Primary keys is a column or a combnination of columns that uniquely identifies each rows in a table. The primary key is used to ensure that each rows in the table is unique value for each row in the table.\n",
    "A Foreign Key is a column or a combination of column that refers tothe primary keyof another table. The foreign key establishges a relaionship between two tables, where the values in theforeign key column of one table must match the value\n",
    "in the primary key column of the other table."
   ]
  },
  {
   "cell_type": "code",
   "execution_count": null,
   "id": "9e4034cc-ac74-4956-b2a3-cf41ec48b898",
   "metadata": {},
   "outputs": [],
   "source": [
    "'''. Write a python code to connect MySQL to python. Explain the cursor() and execute() method."
   ]
  },
  {
   "cell_type": "code",
   "execution_count": null,
   "id": "daacffb0-4f1c-4265-aa92-f051d1fc1d93",
   "metadata": {},
   "outputs": [],
   "source": [
    "import mysql.connector\n",
    "mydb = mysql.connector.connect(\n",
    "  host=\"localhost\",\n",
    "  user=\"abc\",\n",
    "  password=\"password\"\n",
    ")\n",
    "mycursor = mydb.cursor()\n",
    "#mycursor.execute(\"select * from test2.test_table\")\n",
    "mycursor.execute(\"select c1 , c5 from test2.test_table\")\n",
    "\n",
    "for i in mycursor.fetchall()  :\n",
    "    print(i)\n",
    "mydb.close()"
   ]
  },
  {
   "cell_type": "code",
   "execution_count": null,
   "id": "9ea91e1f-308e-4e0c-90bb-bab2bf6668f7",
   "metadata": {},
   "outputs": [],
   "source": [
    "CURSOR() :- This method is used to createa cursor object which is used to execute sql queries and fetch results. The cursor object maintains the state of the current query and provides method for executing sql queries and fetching resuls.\n",
    "EXECUTE() :- THis method is used to execute a sql query on the current cursor . The query is provided as a string parameter to the excute() method."
   ]
  },
  {
   "cell_type": "code",
   "execution_count": null,
   "id": "445e815e-b34e-4286-93f3-9a8b296eaebd",
   "metadata": {},
   "outputs": [],
   "source": [
    "'''Give the order of execution of SQL clauses in an SQL query."
   ]
  },
  {
   "cell_type": "code",
   "execution_count": null,
   "id": "46ede957-5dcf-4987-a70e-4adc6715df46",
   "metadata": {},
   "outputs": [],
   "source": [
    "1. FROM/JOIN: The FROM and/or JOIN clauses are executed first to determine the data of interest.\n",
    "\n",
    "2. WHERE: The WHERE clause is executed to filter out records that do not meet the constraints.\n",
    "\n",
    "3. GROUP BY: The GROUP BY clause is executed to group the data based on the values in one or more columns.\n",
    "\n",
    "4. HAVING: The HAVING clause is executed to remove the created grouped records that don’t meet the constraints.\n",
    "\n",
    "5. SELECT: The SELECT clause is executed to derive all desired columns and expressions.\n",
    "\n",
    "6. ORDER BY: The ORDER BY clause is executed to sort the derived values in ascending or descending order.\n",
    "\n",
    "7. LIMIT/OFFSET: Finally, the LIMIT and/or OFFSET clauses are executed to keep or skip a specified number of rows.\n",
    "\n"
   ]
  }
 ],
 "metadata": {
  "kernelspec": {
   "display_name": "Python 3 (ipykernel)",
   "language": "python",
   "name": "python3"
  },
  "language_info": {
   "codemirror_mode": {
    "name": "ipython",
    "version": 3
   },
   "file_extension": ".py",
   "mimetype": "text/x-python",
   "name": "python",
   "nbconvert_exporter": "python",
   "pygments_lexer": "ipython3",
   "version": "3.10.8"
  }
 },
 "nbformat": 4,
 "nbformat_minor": 5
}
